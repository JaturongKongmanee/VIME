{
 "cells": [
  {
   "cell_type": "code",
   "execution_count": 1,
   "id": "a6e8cff6",
   "metadata": {},
   "outputs": [
    {
     "name": "stderr",
     "output_type": "stream",
     "text": [
      "2023-01-31 21:52:38.468046: I tensorflow/core/platform/cpu_feature_guard.cc:193] This TensorFlow binary is optimized with oneAPI Deep Neural Network Library (oneDNN) to use the following CPU instructions in performance-critical operations:  AVX2 FMA\n",
      "To enable them in other operations, rebuild TensorFlow with the appropriate compiler flags.\n"
     ]
    }
   ],
   "source": [
    "from tensorflow.keras.models import load_model\n",
    "from data_loader import load_mnist_data\n",
    "from supervised_models import logit, xgb_model, mlp\n",
    "from vime_utils import perf_metric"
   ]
  },
  {
   "cell_type": "code",
   "execution_count": 25,
   "id": "9d63c824",
   "metadata": {},
   "outputs": [
    {
     "name": "stdout",
     "output_type": "stream",
     "text": [
      "WARNING:tensorflow:No training configuration found in the save file, so the model was *not* compiled. Compile it manually.\n",
      "Model: \"model_1\"\n",
      "_________________________________________________________________\n",
      " Layer (type)                Output Shape              Param #   \n",
      "=================================================================\n",
      " input_1 (InputLayer)        [(None, 784)]             0         \n",
      "                                                                 \n",
      " dense_3 (Dense)             (None, 784)               615440    \n",
      "                                                                 \n",
      "=================================================================\n",
      "Total params: 615,440\n",
      "Trainable params: 615,440\n",
      "Non-trainable params: 0\n",
      "_________________________________________________________________\n"
     ]
    }
   ],
   "source": [
    "vime_self_encoder = load_model('./save_model/encoder_model_1.h5')\n",
    "vime_self_encoder.summary()"
   ]
  },
  {
   "cell_type": "code",
   "execution_count": 45,
   "id": "99225812",
   "metadata": {},
   "outputs": [
    {
     "name": "stdout",
     "output_type": "stream",
     "text": [
      "4/4 [==============================] - 0s 2ms/step\n",
      "313/313 [==============================] - 0s 1ms/step\n"
     ]
    }
   ],
   "source": [
    "# Load data\n",
    "label_no = 100\n",
    "label_data_rate = 0.1\n",
    "\n",
    "x_train, y_train, x_unlab, x_test, y_test = load_mnist_data(label_data_rate)\n",
    "\n",
    "# Use subset of labeled data\n",
    "x_train = x_train[:label_no, :]\n",
    "y_train = y_train[:label_no, :]  \n",
    "\n",
    "\n",
    "x_train_hat = vime_self_encoder.predict(x_train)\n",
    "x_test_hat = vime_self_encoder.predict(x_test)"
   ]
  },
  {
   "cell_type": "code",
   "execution_count": 46,
   "id": "e6426c06",
   "metadata": {},
   "outputs": [
    {
     "data": {
      "text/plain": [
       "(100, 784)"
      ]
     },
     "execution_count": 46,
     "metadata": {},
     "output_type": "execute_result"
    }
   ],
   "source": [
    "x_train_hat.shape"
   ]
  },
  {
   "cell_type": "code",
   "execution_count": 47,
   "id": "80247056",
   "metadata": {},
   "outputs": [],
   "source": [
    "def supervised_model_training(x_train, y_train, x_test, y_test, model_name, metric):\n",
    "    if model_name == 'logit':\n",
    "        y_test_hat = logit(x_train, y_train, x_test)\n",
    "    elif model_name == 'xgboost':\n",
    "        y_test_hat = xgb_model(x_train, y_train, x_test)      \n",
    "    elif model_name == 'mlp':    \n",
    "        mlp_parameters = dict()\n",
    "        mlp_parameters['hidden_dim'] = 100\n",
    "        mlp_parameters['epochs'] = 100\n",
    "        mlp_parameters['activation'] = 'relu'\n",
    "        mlp_parameters['batch_size'] = 100\n",
    "      \n",
    "        y_test_hat = mlp(x_train, y_train, x_test, mlp_parameters)\n",
    "    performance = perf_metric(metric, y_test, y_test_hat)    \n",
    "    \n",
    "    return performance "
   ]
  },
  {
   "cell_type": "code",
   "execution_count": 48,
   "id": "dd0b849d",
   "metadata": {},
   "outputs": [],
   "source": [
    "model_name = ['xgboost', 'mlp', 'logit']\n",
    "metric = 'acc'"
   ]
  },
  {
   "cell_type": "code",
   "execution_count": 49,
   "id": "5bc3d4a6",
   "metadata": {},
   "outputs": [
    {
     "name": "stdout",
     "output_type": "stream",
     "text": [
      "Restoring model weights from the end of the best epoch: 42.\n",
      "Epoch 92: early stopping\n",
      "313/313 [==============================] - 0s 1ms/step\n"
     ]
    },
    {
     "name": "stderr",
     "output_type": "stream",
     "text": [
      "/Users/dill/miniconda3/envs/kerasTF/lib/python3.8/site-packages/sklearn/linear_model/_logistic.py:458: ConvergenceWarning: lbfgs failed to converge (status=1):\n",
      "STOP: TOTAL NO. of ITERATIONS REACHED LIMIT.\n",
      "\n",
      "Increase the number of iterations (max_iter) or scale the data as shown in:\n",
      "    https://scikit-learn.org/stable/modules/preprocessing.html\n",
      "Please also refer to the documentation for alternative solver options:\n",
      "    https://scikit-learn.org/stable/modules/linear_model.html#logistic-regression\n",
      "  n_iter_i = _check_optimize_result(\n"
     ]
    }
   ],
   "source": [
    "p = []\n",
    "for m in model_name:\n",
    "    p.append(supervised_model_training(x_train_hat, y_train, x_test_hat, y_test, m, metric))"
   ]
  },
  {
   "cell_type": "code",
   "execution_count": 50,
   "id": "6be7d1ee",
   "metadata": {},
   "outputs": [
    {
     "data": {
      "text/plain": [
       "[0.6591, 0.759, 0.7577]"
      ]
     },
     "execution_count": 50,
     "metadata": {},
     "output_type": "execute_result"
    }
   ],
   "source": [
    "p"
   ]
  },
  {
   "cell_type": "code",
   "execution_count": 51,
   "id": "a830258b",
   "metadata": {},
   "outputs": [
    {
     "name": "stdout",
     "output_type": "stream",
     "text": [
      "Restoring model weights from the end of the best epoch: 40.\n",
      "Epoch 90: early stopping\n",
      "313/313 [==============================] - 0s 1ms/step\n"
     ]
    },
    {
     "name": "stderr",
     "output_type": "stream",
     "text": [
      "/Users/dill/miniconda3/envs/kerasTF/lib/python3.8/site-packages/sklearn/linear_model/_logistic.py:458: ConvergenceWarning: lbfgs failed to converge (status=1):\n",
      "STOP: TOTAL NO. of ITERATIONS REACHED LIMIT.\n",
      "\n",
      "Increase the number of iterations (max_iter) or scale the data as shown in:\n",
      "    https://scikit-learn.org/stable/modules/preprocessing.html\n",
      "Please also refer to the documentation for alternative solver options:\n",
      "    https://scikit-learn.org/stable/modules/linear_model.html#logistic-regression\n",
      "  n_iter_i = _check_optimize_result(\n"
     ]
    }
   ],
   "source": [
    "p_e = []\n",
    "for m in model_name:\n",
    "    p_e.append(supervised_model_training(x_train, y_train, x_test, y_test, m, metric))"
   ]
  },
  {
   "cell_type": "code",
   "execution_count": 52,
   "id": "d0e4df69",
   "metadata": {},
   "outputs": [
    {
     "data": {
      "text/plain": [
       "[0.6192, 0.7337, 0.7473]"
      ]
     },
     "execution_count": 52,
     "metadata": {},
     "output_type": "execute_result"
    }
   ],
   "source": [
    "p_e"
   ]
  },
  {
   "cell_type": "code",
   "execution_count": null,
   "id": "2c002bfd",
   "metadata": {},
   "outputs": [],
   "source": []
  }
 ],
 "metadata": {
  "kernelspec": {
   "display_name": "Python 3 (ipykernel)",
   "language": "python",
   "name": "python3"
  },
  "language_info": {
   "codemirror_mode": {
    "name": "ipython",
    "version": 3
   },
   "file_extension": ".py",
   "mimetype": "text/x-python",
   "name": "python",
   "nbconvert_exporter": "python",
   "pygments_lexer": "ipython3",
   "version": "3.8.16"
  }
 },
 "nbformat": 4,
 "nbformat_minor": 5
}
